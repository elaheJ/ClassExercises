{
  "nbformat": 4,
  "nbformat_minor": 0,
  "metadata": {
    "colab": {
      "name": "ElaheJ-HeatMap.ipynb",
      "provenance": [],
      "collapsed_sections": [],
      "authorship_tag": "ABX9TyOA+p/oxib6fBMVw9/Sra9M",
      "include_colab_link": true
    },
    "kernelspec": {
      "name": "python3",
      "display_name": "Python 3"
    },
    "language_info": {
      "name": "python"
    }
  },
  "cells": [
    {
      "cell_type": "markdown",
      "metadata": {
        "id": "view-in-github",
        "colab_type": "text"
      },
      "source": [
        "<a href=\"https://colab.research.google.com/github/elaheJ/ClassExercises/blob/main/ElaheJ_HeatMap.ipynb\" target=\"_parent\"><img src=\"https://colab.research.google.com/assets/colab-badge.svg\" alt=\"Open In Colab\"/></a>"
      ]
    },
    {
      "cell_type": "code",
      "execution_count": 1,
      "metadata": {
        "colab": {
          "base_uri": "https://localhost:8080/",
          "height": 491
        },
        "id": "MR-bJ2Gy8_wc",
        "outputId": "aa6108cf-d0ba-4a1d-b749-930c9f87ac28"
      },
      "outputs": [
        {
          "output_type": "stream",
          "name": "stdout",
          "text": [
            "likelihood  0.1  0.2  0.3  0.5\n",
            "impact                        \n",
            "1           NaN  NaN  NaN  0.5\n",
            "2           NaN  NaN  0.6  NaN\n",
            "4           0.4  NaN  NaN  NaN\n",
            "5           NaN  1.0  NaN  NaN\n",
            "likelihood     0.1    0.2   0.3       0.5\n",
            "impact                                   \n",
            "1              NaN    NaN   NaN  security\n",
            "2              NaN    NaN  team       NaN\n",
            "4           budget    NaN   NaN       NaN\n",
            "5              NaN  users   NaN       NaN\n"
          ]
        },
        {
          "output_type": "display_data",
          "data": {
            "image/png": "[encoded data removed]",
            "text/plain": [
              "<Figure size 432x288 with 2 Axes>"
            ]
          },
          "metadata": {
            "needs_background": "light"
          }
        }
      ],
      "source": [
        "# import a few libraries\n",
        "import seaborn as sns\n",
        "import pandas as pd\n",
        "import numpy as np\n",
        "# Create a dataframe (data table)\n",
        "riskDF = pd.DataFrame(columns=['risk', 'likelihood','impact', 'score'])\n",
        "riskDF['risk']=['users', 'team', 'budget','security']\n",
        "riskDF['likelihood']=[0.2,0.3,0.1,0.5]\n",
        "riskDF['impact']=[5,2,4,1]\n",
        "riskDF['score']=riskDF['impact']*riskDF['likelihood']\n",
        "scoresPivot=riskDF.pivot('impact', 'likelihood','score')\n",
        "print(scoresPivot)\n",
        "labelsPivot=riskDF.pivot('impact', 'likelihood','risk')\n",
        "print(labelsPivot)\n",
        "# simple heatmap\n",
        "p1=sns.heatmap(scoresPivot, cmap=\"afmhot_r\",annot=labelsPivot, fmt='')"
      ]
    }
  ]
}