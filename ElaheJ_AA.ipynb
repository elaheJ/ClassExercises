{
  "nbformat": 4,
  "nbformat_minor": 0,
  "metadata": {
    "colab": {
      "name": "ElaheJ_AA.ipynb",
      "provenance": [],
      "collapsed_sections": [],
      "mount_file_id": "1fNl1cTw3PAdzJOKsjEZl4_j7o4YVyYZu",
      "authorship_tag": "ABX9TyMvw759Pst/jRhqueYGbBgB",
      "include_colab_link": true
    },
    "kernelspec": {
      "name": "python3",
      "display_name": "Python 3"
    },
    "language_info": {
      "name": "python"
    }
  },
  "cells": [
    {
      "cell_type": "markdown",
      "metadata": {
        "id": "view-in-github",
        "colab_type": "text"
      },
      "source": [
        "<a href=\"https://colab.research.google.com/github/elaheJ/ClassExercises/blob/main/ElaheJ_AA.ipynb\" target=\"_parent\"><img src=\"https://colab.research.google.com/assets/colab-badge.svg\" alt=\"Open In Colab\"/></a>"
      ]
    },
    {
      "cell_type": "code",
      "execution_count": 1,
      "metadata": {
        "colab": {
          "base_uri": "https://localhost:8080/"
        },
        "id": "j6HrP-_68Jd2",
        "outputId": "9c51e058-f6d1-4bdd-877e-496198279476"
      },
      "outputs": [
        {
          "output_type": "stream",
          "name": "stdout",
          "text": [
            "Empty DataFrame\n",
            "Columns: [criteria, weight, ratingA, ratingB, scoreA, scoreB]\n",
            "Index: []\n"
          ]
        }
      ],
      "source": [
        "import pandas as pd\n",
        "import math\n",
        "\n",
        "#create a dataframe for our alternative analysis matrix\n",
        "AA=pd.DataFrame(columns=['criteria', 'weight', 'ratingA', 'ratingB','scoreA','scoreB'])\n",
        "print(AA)"
      ]
    },
    {
      "cell_type": "code",
      "source": [
        "# first step: add a list of criteria\n",
        "AA['criteria']=['risk', 'ROI', 'customerSatisfaction', 'feasibility','starategicAlignment']\n",
        "print(AA)"
      ],
      "metadata": {
        "colab": {
          "base_uri": "https://localhost:8080/"
        },
        "id": "ruz021XzlZqf",
        "outputId": "7c6b0e9f-0487-4c9f-eb2b-eb22b57ea136"
      },
      "execution_count": 2,
      "outputs": [
        {
          "output_type": "stream",
          "name": "stdout",
          "text": [
            "               criteria weight ratingA ratingB scoreA scoreB\n",
            "0                  risk    NaN     NaN     NaN    NaN    NaN\n",
            "1                   ROI    NaN     NaN     NaN    NaN    NaN\n",
            "2  customerSatisfaction    NaN     NaN     NaN    NaN    NaN\n",
            "3           feasibility    NaN     NaN     NaN    NaN    NaN\n",
            "4   starategicAlignment    NaN     NaN     NaN    NaN    NaN\n"
          ]
        }
      ]
    },
    {
      "cell_type": "code",
      "source": [
        "# second step: identify weights\n",
        "# weights show relative importance of each criterion\n",
        "# they must add up to 1 (or 100 if you use percentages)\n",
        "AA['weight']=[0.1,0.15,0.3,.15,.3]\n",
        "print(AA)"
      ],
      "metadata": {
        "colab": {
          "base_uri": "https://localhost:8080/"
        },
        "id": "b7EuBiGymSp2",
        "outputId": "9c89ea36-c197-4f16-c431-4e59b4a87c63"
      },
      "execution_count": 3,
      "outputs": [
        {
          "output_type": "stream",
          "name": "stdout",
          "text": [
            "               criteria  weight ratingA ratingB scoreA scoreB\n",
            "0                  risk    0.10     NaN     NaN    NaN    NaN\n",
            "1                   ROI    0.15     NaN     NaN    NaN    NaN\n",
            "2  customerSatisfaction    0.30     NaN     NaN    NaN    NaN\n",
            "3           feasibility    0.15     NaN     NaN    NaN    NaN\n",
            "4   starategicAlignment    0.30     NaN     NaN    NaN    NaN\n"
          ]
        }
      ]
    },
    {
      "cell_type": "code",
      "source": [
        "# step 3: rate each alternative across all criteria\n",
        "# choose a scale: 1-5 or 1-7 or 1-10\n",
        "# higher number: an alternative is doing better regarding a given criterion\n",
        "\n",
        "AA['ratingA']=[4,1,2,1,5]\n",
        "AA['ratingB']=[3,4,2,3,2]\n",
        "\n",
        "# step 4: calculate partial scores by multiplying weight * ratings\n",
        "for index, row in AA.iterrows():\n",
        "  AA['scoreA'][index]=row['ratingA']*row['weight']\n",
        "  AA['scoreB'][index]=row['ratingB']*row['weight']\n",
        "  \n",
        "\n",
        "print(AA)"
      ],
      "metadata": {
        "colab": {
          "base_uri": "https://localhost:8080/"
        },
        "id": "x9tfwJNIn8hJ",
        "outputId": "2122bec9-dc88-4398-f59b-d78a9a32b615"
      },
      "execution_count": 14,
      "outputs": [
        {
          "output_type": "stream",
          "name": "stdout",
          "text": [
            "               criteria  weight  ratingA  ratingB scoreA scoreB\n",
            "0                  risk    0.10        4        3    0.4    0.3\n",
            "1                   ROI    0.15        1        4   0.15    0.6\n",
            "2  customerSatisfaction    0.30        2        2    0.6    0.6\n",
            "3           feasibility    0.15        1        3   0.15   0.45\n",
            "4   starategicAlignment    0.30        5        2    1.5    0.6\n"
          ]
        },
        {
          "output_type": "stream",
          "name": "stderr",
          "text": [
            "/usr/local/lib/python3.7/dist-packages/ipykernel_launcher.py:8: SettingWithCopyWarning: \n",
            "A value is trying to be set on a copy of a slice from a DataFrame\n",
            "\n",
            "See the caveats in the documentation: https://pandas.pydata.org/pandas-docs/stable/user_guide/indexing.html#returning-a-view-versus-a-copy\n",
            "  \n",
            "/usr/local/lib/python3.7/dist-packages/ipykernel_launcher.py:9: SettingWithCopyWarning: \n",
            "A value is trying to be set on a copy of a slice from a DataFrame\n",
            "\n",
            "See the caveats in the documentation: https://pandas.pydata.org/pandas-docs/stable/user_guide/indexing.html#returning-a-view-versus-a-copy\n",
            "  if __name__ == '__main__':\n"
          ]
        }
      ]
    },
    {
      "cell_type": "code",
      "source": [
        "# step 5: add partial scores to get the total scores \n",
        "# which solution is the winner? the one with the highest total score\n",
        "totalScoreA=0\n",
        "totalScoreB=0\n",
        "for index, row in AA.iterrows():\n",
        "  totalScoreA+=row['scoreA']\n",
        "  totalScoreB+=row['scoreB']\n",
        "\n",
        "print ('the total score for A is {:.2f} and for B is {:.2f}'.format(totalScoreA, totalScoreB))"
      ],
      "metadata": {
        "colab": {
          "base_uri": "https://localhost:8080/"
        },
        "id": "Fssl-k_0G7ib",
        "outputId": "10343193-82b4-4b7e-ff40-1831a49402ac"
      },
      "execution_count": 24,
      "outputs": [
        {
          "output_type": "stream",
          "name": "stdout",
          "text": [
            "the total score for A is 2.80 and for B is 2.55\n"
          ]
        }
      ]
    }
  ]
}